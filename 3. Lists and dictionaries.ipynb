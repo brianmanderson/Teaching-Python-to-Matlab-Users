{
 "cells": [
  {
   "cell_type": "markdown",
   "metadata": {},
   "source": [
    "# Lists\n",
    "## python holds many things inside of lists, these are similar to arrays, but can handle groups of numbers, letters, anything"
   ]
  },
  {
   "cell_type": "code",
   "execution_count": 4,
   "metadata": {},
   "outputs": [],
   "source": [
    "x = 5\n",
    "list1 = ['hi',2,x]"
   ]
  },
  {
   "cell_type": "markdown",
   "metadata": {},
   "source": [
    "## And we can add to lists by appending values ontop them, and this is where object oriented really gets into play... Note that the variable list1 has the intrinsic ability to append more onto it"
   ]
  },
  {
   "cell_type": "code",
   "execution_count": 7,
   "metadata": {},
   "outputs": [
    {
     "name": "stdout",
     "output_type": "stream",
     "text": [
      "['hi', 2, 5, 'bye']\n"
     ]
    }
   ],
   "source": [
    "list1 = ['hi',2,x]\n",
    "\n",
    "list1 = list1 + ['bye']\n",
    "print(list1)"
   ]
  },
  {
   "cell_type": "code",
   "execution_count": 6,
   "metadata": {},
   "outputs": [
    {
     "name": "stdout",
     "output_type": "stream",
     "text": [
      "['hi', 2, 5, 'bye']\n"
     ]
    }
   ],
   "source": [
    "list1 = ['hi',2,x]\n",
    "\n",
    "list1.append('bye')\n",
    "print(list1)"
   ]
  },
  {
   "cell_type": "markdown",
   "metadata": {},
   "source": [
    "### The two functions above do the same thing, because the list is defined by a class called 'list', these classes offer certain attributes similar to what arrays and matrixes can take"
   ]
  },
  {
   "cell_type": "code",
   "execution_count": 8,
   "metadata": {},
   "outputs": [
    {
     "name": "stdout",
     "output_type": "stream",
     "text": [
      "<class 'list'>\n"
     ]
    }
   ],
   "source": [
    "print(type(list1))"
   ]
  },
  {
   "cell_type": "markdown",
   "metadata": {},
   "source": [
    "# Dictionaries\n",
    "## Dictionaries are somewhat similar to lists, but they are based on a key:value relationship, similar to SQL databases"
   ]
  },
  {
   "cell_type": "markdown",
   "metadata": {},
   "source": [
    "### For example, if I wanted to make a dictionary that represented by patients age with their name as a key, I could make one in the following way"
   ]
  },
  {
   "cell_type": "code",
   "execution_count": 12,
   "metadata": {},
   "outputs": [],
   "source": [
    "patient_dictionary = {} # initialize our dictionary\n",
    "patient_dictionary['Joe'] = 58\n",
    "patient_dictionary['Haley'] = 34"
   ]
  },
  {
   "cell_type": "markdown",
   "metadata": {},
   "source": [
    "### Later, if I want to know the age of Joe, I can query the dictionary with"
   ]
  },
  {
   "cell_type": "code",
   "execution_count": 11,
   "metadata": {},
   "outputs": [
    {
     "data": {
      "text/plain": [
       "58"
      ]
     },
     "execution_count": 11,
     "metadata": {},
     "output_type": "execute_result"
    }
   ],
   "source": [
    "patient_dictionary['Joe']"
   ]
  },
  {
   "cell_type": "markdown",
   "metadata": {},
   "source": [
    "### There is really no limit to what you can put within a dictionary though"
   ]
  },
  {
   "cell_type": "code",
   "execution_count": 23,
   "metadata": {},
   "outputs": [],
   "source": [
    "patient_dictionary = {}\n",
    "patient_dictionary['Patient_1'] = {}\n",
    "patient_dictionary['Patient_1']['Name'] = 'Joe'\n",
    "patient_dictionary['Patient_1']['Age'] = 58\n",
    "# These both do the same thing\n",
    "patient_dictionary = {'Patient_1':{'Name':'Joe','Age':58}}"
   ]
  },
  {
   "cell_type": "code",
   "execution_count": 24,
   "metadata": {},
   "outputs": [
    {
     "name": "stdout",
     "output_type": "stream",
     "text": [
      "Joe\n"
     ]
    }
   ],
   "source": [
    "print(patient_dictionary['Patient_1']['Name'])"
   ]
  }
 ],
 "metadata": {
  "kernelspec": {
   "display_name": "Python 3",
   "language": "python",
   "name": "python3"
  },
  "language_info": {
   "codemirror_mode": {
    "name": "ipython",
    "version": 3
   },
   "file_extension": ".py",
   "mimetype": "text/x-python",
   "name": "python",
   "nbconvert_exporter": "python",
   "pygments_lexer": "ipython3",
   "version": "3.6.8"
  }
 },
 "nbformat": 4,
 "nbformat_minor": 2
}
