{
 "cells": [
  {
   "cell_type": "markdown",
   "metadata": {},
   "source": [
    "# Classes\n",
    "## Okay, so in the last one I said that lists could .append() because of their class, but what does that mean?\n",
    "### Essentially a class is a holder which can be used by many different variables, just because you append something to one list does not mean it affects any other list"
   ]
  },
  {
   "cell_type": "code",
   "execution_count": 14,
   "metadata": {},
   "outputs": [],
   "source": [
    "class Patient(object):\n",
    "    Insitutution = 'Fuller Lab' # Variables defined up here are within the 'self'\n",
    "    def __init__(self, Name):\n",
    "        self.dict = {'Institution':self.Insitutution,'Name':Name}\n",
    "    def update_info(self,new_information_dict):\n",
    "        self.dict.update(new_information_dict)\n",
    "    def give_information(self):\n",
    "        for key in self.dict.keys():\n",
    "            print(key + ': ' + str(self.dict[key]))\n",
    "        "
   ]
  },
  {
   "cell_type": "code",
   "execution_count": 15,
   "metadata": {},
   "outputs": [
    {
     "name": "stdout",
     "output_type": "stream",
     "text": [
      "Institution: Fuller Lab\n",
      "Name: Joe\n"
     ]
    }
   ],
   "source": [
    "new_patient = Patient('Joe')\n",
    "new_patient.give_information()"
   ]
  },
  {
   "cell_type": "markdown",
   "metadata": {},
   "source": [
    "## Note that this allows us to have multiple patients, all with very different information"
   ]
  },
  {
   "cell_type": "code",
   "execution_count": 17,
   "metadata": {},
   "outputs": [],
   "source": [
    "patient_1 = Patient('Joe')\n",
    "patient_1.update_info({'Age':58,'History':'Smoking'})\n",
    "patient_2 = Patient('Pam')\n",
    "patient_2.update_info({'Age':25,'History':'The Office'})"
   ]
  },
  {
   "cell_type": "code",
   "execution_count": 18,
   "metadata": {},
   "outputs": [
    {
     "name": "stdout",
     "output_type": "stream",
     "text": [
      "Institution: Fuller Lab\n",
      "Name: Joe\n",
      "Age: 58\n",
      "History: Smoking\n",
      "Institution: Fuller Lab\n",
      "Name: Pam\n",
      "Age: 25\n",
      "History: The Office\n"
     ]
    }
   ],
   "source": [
    "patient_1.give_information()\n",
    "patient_2.give_information()"
   ]
  },
  {
   "cell_type": "markdown",
   "metadata": {},
   "source": [
    "## We can also inherent from other classes"
   ]
  }
 ],
 "metadata": {
  "kernelspec": {
   "display_name": "Python 3",
   "language": "python",
   "name": "python3"
  },
  "language_info": {
   "codemirror_mode": {
    "name": "ipython",
    "version": 3
   },
   "file_extension": ".py",
   "mimetype": "text/x-python",
   "name": "python",
   "nbconvert_exporter": "python",
   "pygments_lexer": "ipython3",
   "version": "3.6.8"
  }
 },
 "nbformat": 4,
 "nbformat_minor": 2
}
