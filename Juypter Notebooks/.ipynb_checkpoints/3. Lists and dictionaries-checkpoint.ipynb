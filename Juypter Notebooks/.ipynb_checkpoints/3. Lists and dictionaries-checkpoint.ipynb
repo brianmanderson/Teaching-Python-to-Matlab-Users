{
 "cells": [
  {
   "cell_type": "code",
   "execution_count": 1,
   "metadata": {},
   "outputs": [],
   "source": [
    "import sys\n",
    "sys.path.append('..')\n",
    "import Testing_Examples"
   ]
  },
  {
   "cell_type": "markdown",
   "metadata": {},
   "source": [
    "# Lists\n",
    "Python holds many things inside of lists, these are similar to arrays, but can handle groups of numbers, letters, anything"
   ]
  },
  {
   "cell_type": "code",
   "execution_count": 2,
   "metadata": {},
   "outputs": [],
   "source": [
    "x = 5\n",
    "list1 = ['hi',2,x]"
   ]
  },
  {
   "cell_type": "markdown",
   "metadata": {},
   "source": [
    "And we can add to lists by appending values ontop them, and this is where object oriented really gets into play... Note that the variable list1 has the intrinsic ability to append more onto it"
   ]
  },
  {
   "cell_type": "code",
   "execution_count": 3,
   "metadata": {},
   "outputs": [
    {
     "name": "stdout",
     "output_type": "stream",
     "text": [
      "['hi', 2, 5, 'bye']\n"
     ]
    }
   ],
   "source": [
    "list1 = ['hi',2,x]\n",
    "\n",
    "list1 = list1 + ['bye']\n",
    "print(list1)"
   ]
  },
  {
   "cell_type": "code",
   "execution_count": 4,
   "metadata": {},
   "outputs": [
    {
     "name": "stdout",
     "output_type": "stream",
     "text": [
      "['hi', 2, 5, 'bye']\n"
     ]
    }
   ],
   "source": [
    "list1 = ['hi',2,x]\n",
    "\n",
    "list1.append('bye')\n",
    "print(list1)"
   ]
  },
  {
   "cell_type": "markdown",
   "metadata": {},
   "source": [
    "### The two functions above do the same thing, because the list is defined by a class called 'list', these classes offer certain attributes similar to what arrays and matrixes can take"
   ]
  },
  {
   "cell_type": "code",
   "execution_count": 5,
   "metadata": {},
   "outputs": [
    {
     "name": "stdout",
     "output_type": "stream",
     "text": [
      "<class 'list'>\n"
     ]
    }
   ],
   "source": [
    "print(type(list1))"
   ]
  },
  {
   "cell_type": "markdown",
   "metadata": {},
   "source": [
    "### Differences with Matlab\n",
    "One of the BIGGEST differences between Matlab and python, is going through a list of objects.. In Matlab I always coded it as for i = 1:length(xxx), etc.\n",
    "Here, you can intrinsically call from the list"
   ]
  },
  {
   "cell_type": "code",
   "execution_count": 6,
   "metadata": {},
   "outputs": [
    {
     "name": "stdout",
     "output_type": "stream",
     "text": [
      "hi\n",
      "2\n",
      "5\n",
      "bye\n"
     ]
    }
   ],
   "source": [
    "for item in list1:\n",
    "    print(item)"
   ]
  },
  {
   "cell_type": "markdown",
   "metadata": {},
   "source": [
    "## Example"
   ]
  },
  {
   "cell_type": "markdown",
   "metadata": {},
   "source": [
    "Change the value of 2 within this list to be 5, how do you index in Matlab?"
   ]
  },
  {
   "cell_type": "code",
   "execution_count": 7,
   "metadata": {},
   "outputs": [
    {
     "name": "stdout",
     "output_type": "stream",
     "text": [
      "Messed up somewhere\n"
     ]
    }
   ],
   "source": [
    "# This will tell you if you succeeded or not\n",
    "Testing_Examples.Example3_list_and_dict(list1)"
   ]
  },
  {
   "cell_type": "markdown",
   "metadata": {},
   "source": [
    "# Dictionaries\n",
    "## Dictionaries are somewhat similar to lists, but they are based on a key:value relationship, similar to SQL databases"
   ]
  },
  {
   "cell_type": "markdown",
   "metadata": {},
   "source": [
    "### For example, if I wanted to make a dictionary that represented by patients age with their name as a key, I could make one in the following way"
   ]
  },
  {
   "cell_type": "code",
   "execution_count": 8,
   "metadata": {},
   "outputs": [],
   "source": [
    "patient_dictionary = {} # initialize our dictionary\n",
    "patient_dictionary['Joe'] = 58\n",
    "patient_dictionary['Haley'] = 34"
   ]
  },
  {
   "cell_type": "markdown",
   "metadata": {},
   "source": [
    "### Later, if I want to know the age of Joe, I can query the dictionary with"
   ]
  },
  {
   "cell_type": "code",
   "execution_count": 9,
   "metadata": {},
   "outputs": [
    {
     "data": {
      "text/plain": [
       "58"
      ]
     },
     "execution_count": 9,
     "metadata": {},
     "output_type": "execute_result"
    }
   ],
   "source": [
    "patient_dictionary['Joe']"
   ]
  },
  {
   "cell_type": "markdown",
   "metadata": {},
   "source": [
    "### There is really no limit to what you can put within a dictionary though"
   ]
  },
  {
   "cell_type": "code",
   "execution_count": 10,
   "metadata": {},
   "outputs": [],
   "source": [
    "patient_dictionary = {}\n",
    "patient_dictionary['Patient_1'] = {}\n",
    "patient_dictionary['Patient_1']['Name'] = 'Joe'\n",
    "patient_dictionary['Patient_1']['Age'] = 58\n",
    "# These both do the same thing\n",
    "patient_dictionary = {'Patient_1':{'Name':'Joe','Age':58}}"
   ]
  },
  {
   "cell_type": "code",
   "execution_count": 11,
   "metadata": {
    "scrolled": true
   },
   "outputs": [
    {
     "name": "stdout",
     "output_type": "stream",
     "text": [
      "Joe\n"
     ]
    }
   ],
   "source": [
    "print(patient_dictionary['Patient_1']['Name'])"
   ]
  },
  {
   "cell_type": "markdown",
   "metadata": {},
   "source": [
    "## Example 4: Dictionaries"
   ]
  },
  {
   "cell_type": "markdown",
   "metadata": {},
   "source": [
    "Make a dictionary which has a patient name 'John Smith' with a subkey 'Image':Image, 'Sex':'M', and 'Age':52\n",
    "It should look something like\n",
    "John Smith -> Image:xxx, Sex:xxx, Age:xxx"
   ]
  },
  {
   "cell_type": "code",
   "execution_count": 12,
   "metadata": {},
   "outputs": [],
   "source": [
    "import numpy as np\n",
    "Image = np.zeros([512,512,50]) # Image this patient has 50 dicom images"
   ]
  },
  {
   "cell_type": "markdown",
   "metadata": {},
   "source": [
    "We will skip ahead for a moment to show numpy, this is how python hands arrays and data such as images"
   ]
  },
  {
   "cell_type": "code",
   "execution_count": 3,
   "metadata": {},
   "outputs": [
    {
     "data": {
      "text/plain": [
       "'\\nFill in the rest\\n'"
      ]
     },
     "execution_count": 3,
     "metadata": {},
     "output_type": "execute_result"
    }
   ],
   "source": [
    "data_dict = {'Pat 1':{'Name':'John Smith'}}\n",
    "'''\n",
    "Fill in the rest\n",
    "'''"
   ]
  },
  {
   "cell_type": "markdown",
   "metadata": {},
   "source": [
    "Test it to see if you succeeded"
   ]
  },
  {
   "cell_type": "code",
   "execution_count": 4,
   "metadata": {},
   "outputs": [
    {
     "name": "stdout",
     "output_type": "stream",
     "text": [
      "Off at Age\n",
      "Off at Image\n",
      "Try again\n"
     ]
    }
   ],
   "source": [
    "Testing_Examples.Example4_list_and_dict(data_dict)"
   ]
  },
  {
   "cell_type": "code",
   "execution_count": 19,
   "metadata": {},
   "outputs": [
    {
     "data": {
      "text/plain": [
       "52"
      ]
     },
     "execution_count": 19,
     "metadata": {},
     "output_type": "execute_result"
    }
   ],
   "source": [
    "true_dictionary['Pat 1']['Age']"
   ]
  }
 ],
 "metadata": {
  "kernelspec": {
   "display_name": "Python 3",
   "language": "python",
   "name": "python3"
  },
  "language_info": {
   "codemirror_mode": {
    "name": "ipython",
    "version": 3
   },
   "file_extension": ".py",
   "mimetype": "text/x-python",
   "name": "python",
   "nbconvert_exporter": "python",
   "pygments_lexer": "ipython3",
   "version": "3.6.8"
  }
 },
 "nbformat": 4,
 "nbformat_minor": 2
}
