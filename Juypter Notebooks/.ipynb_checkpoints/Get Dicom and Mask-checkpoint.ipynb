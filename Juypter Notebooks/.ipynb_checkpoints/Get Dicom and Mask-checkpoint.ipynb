{
 "cells": [
  {
   "cell_type": "markdown",
   "metadata": {},
   "source": [
    "## Get the following code from github\n",
    "#### https://github.com/brianmanderson/Dicom_Utilities.git"
   ]
  },
  {
   "cell_type": "code",
   "execution_count": 2,
   "metadata": {},
   "outputs": [],
   "source": [
    "import numpy as np\n",
    "import matplotlib.pyplot as plt\n",
    "import SimpleITK as sitk\n",
    "import copy, os, sys\n",
    "from ipywidgets import interact, interactive, fixed, interact_manual, IntSlider, HBox, jslink\n",
    "from ipywidgets import interact, interactive, fixed, interact_manual, IntSlider"
   ]
  },
  {
   "cell_type": "code",
   "execution_count": 6,
   "metadata": {},
   "outputs": [],
   "source": [
    "def custom_myshow1(img, title=None, margin=0.05, dpi=80):\n",
    "    nda = sitk.GetArrayFromImage(img)\n",
    "    spacing = img.GetSpacing()\n",
    "\n",
    "    if nda.ndim == 3:\n",
    "        # fastest dim, either component or x\n",
    "        c = nda.shape[-1]\n",
    "\n",
    "        # the the number of components is 3 or 4 consider it an RGB image\n",
    "        if not c in (3, 4):\n",
    "            nda = nda[nda.shape[0] // 2, :, :]\n",
    "\n",
    "    elif nda.ndim == 4:\n",
    "        c = nda.shape[-1]\n",
    "\n",
    "        if not c in (3, 4):\n",
    "            raise Runtime(\"Unable to show 3D-vector Image\")\n",
    "\n",
    "        # take a z-slice\n",
    "        nda = nda[nda.shape[0] // 2, :, :, :]\n",
    "\n",
    "    ysize = nda.shape[1]\n",
    "    xsize = nda.shape[1]\n",
    "\n",
    "    # Make a figure big enough to accomodate an axis of xpixels by ypixels\n",
    "    # as well as the ticklabels, etc...\n",
    "\n",
    "    plt.close('all')\n",
    "    plt.clf()\n",
    "\n",
    "    figsize = ysize/100, xsize/100\n",
    "    fig, ax = plt.subplots(1, 1, figsize=figsize)\n",
    "#     plt.subplots_adjust(left=0.25, bottom=0.25)\n",
    "\n",
    "    t = ax.imshow(nda, cmap='gray', interpolation=None)\n",
    "    ax.set_title('use scroll bar to navigate images')\n",
    "\n",
    "    plt.show()\n",
    "\n",
    "class update_class(object):\n",
    "    def __init__(self,image_array):\n",
    "        self.image_array = copy.deepcopy(image_array)\n",
    "        self.image_array = np.squeeze(self.image_array)\n",
    "        if self.image_array.shape[0] != self.image_array.shape[1]:\n",
    "            self.image_array = np.transpose(self.image_array,[1,2,0])\n",
    "        self.selected_images = sitk.GetImageFromArray(np.transpose(self.image_array,[-1,0,1]), isVector=False)\n",
    "        self.run()\n",
    "    def update(self, Z):\n",
    "        slices = [selected_images[:, :, Z]]\n",
    "        dpi = 50\n",
    "        custom_myshow1(sitk.Tile(slices), dpi=dpi, margin=0.00)\n",
    "    def run(self):\n",
    "        size = self.selected_images.GetSize()\n",
    "        self.interactive_plot = interactive(self.update, X=IntSlider(min=0, max=size[0] - 1), Y=IntSlider(min=0, max=size[1] - 1),\n",
    "                               Z=IntSlider(min=0, max=size[2] - 1))\n",
    "#         output = interactive_plot.children[-1]\n",
    "#         output.layout.height = '600px'"
   ]
  },
  {
   "cell_type": "markdown",
   "metadata": {},
   "source": [
    "You will need to add to system path wherever you downloaded from the github"
   ]
  },
  {
   "cell_type": "code",
   "execution_count": 4,
   "metadata": {},
   "outputs": [],
   "source": [
    "sys.path.append(os.path.join('..','..','Dicom_Utilities'))"
   ]
  },
  {
   "cell_type": "markdown",
   "metadata": {},
   "source": [
    "Then import the module"
   ]
  },
  {
   "cell_type": "code",
   "execution_count": 5,
   "metadata": {},
   "outputs": [
    {
     "ename": "ModuleNotFoundError",
     "evalue": "No module named 'Image_Array_And_Mask_From_Dicom_RT'",
     "output_type": "error",
     "traceback": [
      "\u001b[1;31m---------------------------------------------------------------------------\u001b[0m",
      "\u001b[1;31mModuleNotFoundError\u001b[0m                       Traceback (most recent call last)",
      "\u001b[1;32m<ipython-input-5-299300769fc8>\u001b[0m in \u001b[0;36m<module>\u001b[1;34m\u001b[0m\n\u001b[1;32m----> 1\u001b[1;33m \u001b[1;32mfrom\u001b[0m \u001b[0mImage_Array_And_Mask_From_Dicom_RT\u001b[0m \u001b[1;32mimport\u001b[0m \u001b[1;33m*\u001b[0m\u001b[1;33m\u001b[0m\u001b[1;33m\u001b[0m\u001b[0m\n\u001b[0m",
      "\u001b[1;31mModuleNotFoundError\u001b[0m: No module named 'Image_Array_And_Mask_From_Dicom_RT'"
     ]
    }
   ],
   "source": [
    "from Image_Array_And_Mask_From_Dicom_RT import *"
   ]
  },
  {
   "cell_type": "markdown",
   "metadata": {},
   "source": [
    "Specify the path to the image data"
   ]
  },
  {
   "cell_type": "code",
   "execution_count": null,
   "metadata": {},
   "outputs": [],
   "source": [
    "path = os.path.join('..','TCIA-Images','HN_Pat_1')\n",
    "Dicom_Image = DicomImagestoData(path=path)"
   ]
  },
  {
   "cell_type": "code",
   "execution_count": null,
   "metadata": {},
   "outputs": [],
   "source": [
    "print(Dicom_Image.rois_in_case)"
   ]
  },
  {
   "cell_type": "code",
   "execution_count": null,
   "metadata": {},
   "outputs": [],
   "source": [
    "mask = Dicom_Image.get_mask(['CTV 50'])"
   ]
  },
  {
   "cell_type": "code",
   "execution_count": null,
   "metadata": {},
   "outputs": [],
   "source": []
  }
 ],
 "metadata": {
  "kernelspec": {
   "display_name": "Python 3",
   "language": "python",
   "name": "python3"
  },
  "language_info": {
   "codemirror_mode": {
    "name": "ipython",
    "version": 3
   },
   "file_extension": ".py",
   "mimetype": "text/x-python",
   "name": "python",
   "nbconvert_exporter": "python",
   "pygments_lexer": "ipython3",
   "version": "3.6.8"
  }
 },
 "nbformat": 4,
 "nbformat_minor": 2
}
