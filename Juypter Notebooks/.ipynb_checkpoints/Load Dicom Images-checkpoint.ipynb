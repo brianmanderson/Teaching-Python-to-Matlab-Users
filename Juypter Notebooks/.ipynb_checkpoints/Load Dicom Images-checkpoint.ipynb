{
 "cells": [
  {
   "cell_type": "markdown",
   "metadata": {},
   "source": [
    "# Install packages (only needs to be done once)"
   ]
  },
  {
   "cell_type": "code",
   "execution_count": 77,
   "metadata": {},
   "outputs": [
    {
     "name": "stdout",
     "output_type": "stream",
     "text": [
      "Requirement already satisfied: pydicom in c:\\users\\bmanderson\\appdata\\local\\programs\\python\\python36\\lib\\site-packages (1.2.2)\n"
     ]
    },
    {
     "name": "stderr",
     "output_type": "stream",
     "text": [
      "You are using pip version 18.1, however version 19.0.3 is available.\n",
      "You should consider upgrading via the 'python -m pip install --upgrade pip' command.\n"
     ]
    },
    {
     "name": "stdout",
     "output_type": "stream",
     "text": [
      "Requirement already satisfied: numpy in c:\\users\\bmanderson\\appdata\\local\\programs\\python\\python36\\lib\\site-packages (1.16.0)\n"
     ]
    },
    {
     "name": "stderr",
     "output_type": "stream",
     "text": [
      "You are using pip version 18.1, however version 19.0.3 is available.\n",
      "You should consider upgrading via the 'python -m pip install --upgrade pip' command.\n"
     ]
    },
    {
     "name": "stdout",
     "output_type": "stream",
     "text": [
      "Requirement already satisfied: matplotlib in c:\\users\\bmanderson\\appdata\\local\\programs\\python\\python36\\lib\\site-packages (3.0.2)\n",
      "Requirement already satisfied: pyparsing!=2.0.4,!=2.1.2,!=2.1.6,>=2.0.1 in c:\\users\\bmanderson\\appdata\\local\\programs\\python\\python36\\lib\\site-packages (from matplotlib) (2.3.1)\n",
      "Requirement already satisfied: python-dateutil>=2.1 in c:\\users\\bmanderson\\appdata\\local\\programs\\python\\python36\\lib\\site-packages (from matplotlib) (2.7.5)\n",
      "Requirement already satisfied: numpy>=1.10.0 in c:\\users\\bmanderson\\appdata\\local\\programs\\python\\python36\\lib\\site-packages (from matplotlib) (1.16.0)\n",
      "Requirement already satisfied: cycler>=0.10 in c:\\users\\bmanderson\\appdata\\local\\programs\\python\\python36\\lib\\site-packages (from matplotlib) (0.10.0)\n",
      "Requirement already satisfied: kiwisolver>=1.0.1 in c:\\users\\bmanderson\\appdata\\local\\programs\\python\\python36\\lib\\site-packages (from matplotlib) (1.0.1)\n",
      "Requirement already satisfied: six>=1.5 in c:\\users\\bmanderson\\appdata\\local\\programs\\python\\python36\\lib\\site-packages (from python-dateutil>=2.1->matplotlib) (1.12.0)\n",
      "Requirement already satisfied: setuptools in c:\\users\\bmanderson\\appdata\\local\\programs\\python\\python36\\lib\\site-packages (from kiwisolver>=1.0.1->matplotlib) (40.6.2)\n"
     ]
    },
    {
     "name": "stderr",
     "output_type": "stream",
     "text": [
      "You are using pip version 18.1, however version 19.0.3 is available.\n",
      "You should consider upgrading via the 'python -m pip install --upgrade pip' command.\n"
     ]
    }
   ],
   "source": [
    "import sys\n",
    "!{sys.executable} -m pip install pydicom\n",
    "!{sys.executable} -m pip install numpy\n",
    "!{sys.executable} -m pip install matplotlib"
   ]
  },
  {
   "cell_type": "markdown",
   "metadata": {},
   "source": [
    "# Import necessary packages"
   ]
  },
  {
   "cell_type": "markdown",
   "metadata": {},
   "source": []
  },
  {
   "cell_type": "code",
   "execution_count": 133,
   "metadata": {},
   "outputs": [],
   "source": [
    "import pydicom, os # Dicom allows us to handle dicom images, and os lets us look at paths"
   ]
  },
  {
   "cell_type": "markdown",
   "metadata": {},
   "source": [
    "## Load a dicom image"
   ]
  },
  {
   "cell_type": "code",
   "execution_count": 134,
   "metadata": {},
   "outputs": [
    {
     "name": "stdout",
     "output_type": "stream",
     "text": [
      "['000000.dcm', '000001.dcm', '000002.dcm', '000003.dcm', '000004.dcm', '000005.dcm', '000006.dcm', '000007.dcm', '000008.dcm', '000009.dcm', '000010.dcm', '000011.dcm', '000012.dcm', '000013.dcm', '000014.dcm', '000015.dcm', '000016.dcm', '000017.dcm', '000018.dcm', '000019.dcm', '000020.dcm', '000021.dcm', '000022.dcm', '000023.dcm', '000024.dcm', '000025.dcm', '000026.dcm', '000027.dcm', '000028.dcm', '000029.dcm', '000030.dcm', '000031.dcm', '000032.dcm', '000033.dcm', '000034.dcm', '000035.dcm', '000036.dcm', '000037.dcm', '000038.dcm', '000039.dcm', '000040.dcm', '000041.dcm', '000042.dcm', '000043.dcm', '000044.dcm', '000045.dcm', '000046.dcm', '000047.dcm', '000048.dcm', '000049.dcm', '000050.dcm', '000051.dcm', '000052.dcm', '000053.dcm', '000054.dcm', '000055.dcm', '000056.dcm', '000057.dcm', '000058.dcm', '000059.dcm', '000060.dcm', '000061.dcm', '000062.dcm', '000063.dcm', '000064.dcm', '000065.dcm', '000066.dcm', '000067.dcm', '000068.dcm', '000069.dcm', '000070.dcm', '000071.dcm', '000072.dcm', '000073.dcm', '000074.dcm', '000075.dcm', '000076.dcm', '000077.dcm', '000078.dcm', '000079.dcm', '000080.dcm', '000081.dcm', '000082.dcm', '000083.dcm', '000084.dcm', '000085.dcm', '000086.dcm', '000087.dcm', '000088.dcm', '000089.dcm', '000090.dcm', '000091.dcm', '000092.dcm', '000093.dcm', '000094.dcm', '000095.dcm', '000096.dcm', '000097.dcm', '000098.dcm', '000099.dcm', '000100.dcm', '000101.dcm', '000102.dcm', '000103.dcm', '000104.dcm', '000105.dcm', '000106.dcm', '000107.dcm', '000108.dcm', '000109.dcm', '000110.dcm', '000111.dcm', '000112.dcm', '000113.dcm', '000114.dcm', '000115.dcm', '000116.dcm', 'RS1.2.752.243.1.1.20190416102002731.2600.21377.dcm']\n"
     ]
    }
   ],
   "source": [
    "path = os.path.join('..','TCIA-Images','HN_Pat_1')\n",
    "file_list = os.listdir(path)\n",
    "print(file_list) # Print the files in the path"
   ]
  },
  {
   "cell_type": "markdown",
   "metadata": {},
   "source": [
    "Note that we have a lot of image files and one RT structure"
   ]
  },
  {
   "cell_type": "markdown",
   "metadata": {},
   "source": [
    "## Loading image data"
   ]
  },
  {
   "cell_type": "code",
   "execution_count": 135,
   "metadata": {},
   "outputs": [],
   "source": [
    "def load_dicom_image(file):\n",
    "    data = pydicom.read_file(file)\n",
    "    image = data.pixel_array\n",
    "    return data, image"
   ]
  },
  {
   "cell_type": "code",
   "execution_count": 136,
   "metadata": {},
   "outputs": [
    {
     "ename": "FileNotFoundError",
     "evalue": "[Errno 2] No such file or directory: '000000.dcm'",
     "output_type": "error",
     "traceback": [
      "\u001b[1;31m---------------------------------------------------------------------------\u001b[0m",
      "\u001b[1;31mFileNotFoundError\u001b[0m                         Traceback (most recent call last)",
      "\u001b[1;32m<ipython-input-136-cd4578e6dec0>\u001b[0m in \u001b[0;36m<module>\u001b[1;34m\u001b[0m\n\u001b[0;32m      1\u001b[0m \u001b[0msingle_file\u001b[0m \u001b[1;33m=\u001b[0m \u001b[0mfile_list\u001b[0m\u001b[1;33m[\u001b[0m\u001b[1;36m0\u001b[0m\u001b[1;33m]\u001b[0m\u001b[1;33m\u001b[0m\u001b[1;33m\u001b[0m\u001b[0m\n\u001b[1;32m----> 2\u001b[1;33m \u001b[0mdata\u001b[0m\u001b[1;33m,\u001b[0m \u001b[0mimage\u001b[0m \u001b[1;33m=\u001b[0m \u001b[0mload_dicom_image\u001b[0m\u001b[1;33m(\u001b[0m\u001b[0msingle_file\u001b[0m\u001b[1;33m)\u001b[0m\u001b[1;33m\u001b[0m\u001b[1;33m\u001b[0m\u001b[0m\n\u001b[0m",
      "\u001b[1;32m<ipython-input-135-b6dcc8a9e488>\u001b[0m in \u001b[0;36mload_dicom_image\u001b[1;34m(file)\u001b[0m\n\u001b[0;32m      1\u001b[0m \u001b[1;32mdef\u001b[0m \u001b[0mload_dicom_image\u001b[0m\u001b[1;33m(\u001b[0m\u001b[0mfile\u001b[0m\u001b[1;33m)\u001b[0m\u001b[1;33m:\u001b[0m\u001b[1;33m\u001b[0m\u001b[1;33m\u001b[0m\u001b[0m\n\u001b[1;32m----> 2\u001b[1;33m     \u001b[0mdata\u001b[0m \u001b[1;33m=\u001b[0m \u001b[0mpydicom\u001b[0m\u001b[1;33m.\u001b[0m\u001b[0mread_file\u001b[0m\u001b[1;33m(\u001b[0m\u001b[0mfile\u001b[0m\u001b[1;33m)\u001b[0m\u001b[1;33m\u001b[0m\u001b[1;33m\u001b[0m\u001b[0m\n\u001b[0m\u001b[0;32m      3\u001b[0m     \u001b[0mimage\u001b[0m \u001b[1;33m=\u001b[0m \u001b[0mdata\u001b[0m\u001b[1;33m.\u001b[0m\u001b[0mpixel_array\u001b[0m\u001b[1;33m\u001b[0m\u001b[1;33m\u001b[0m\u001b[0m\n\u001b[0;32m      4\u001b[0m     \u001b[1;32mreturn\u001b[0m \u001b[0mdata\u001b[0m\u001b[1;33m,\u001b[0m \u001b[0mimage\u001b[0m\u001b[1;33m\u001b[0m\u001b[1;33m\u001b[0m\u001b[0m\n",
      "\u001b[1;32mc:\\users\\bmanderson\\appdata\\local\\programs\\python\\python36\\lib\\site-packages\\pydicom\\filereader.py\u001b[0m in \u001b[0;36mdcmread\u001b[1;34m(fp, defer_size, stop_before_pixels, force, specific_tags)\u001b[0m\n\u001b[0;32m    854\u001b[0m         \u001b[1;32mexcept\u001b[0m \u001b[0mException\u001b[0m\u001b[1;33m:\u001b[0m\u001b[1;33m\u001b[0m\u001b[1;33m\u001b[0m\u001b[0m\n\u001b[0;32m    855\u001b[0m             \u001b[0mlogger\u001b[0m\u001b[1;33m.\u001b[0m\u001b[0mdebug\u001b[0m\u001b[1;33m(\u001b[0m\u001b[1;34m\"Reading file '{0}'\"\u001b[0m\u001b[1;33m.\u001b[0m\u001b[0mformat\u001b[0m\u001b[1;33m(\u001b[0m\u001b[0mfp\u001b[0m\u001b[1;33m)\u001b[0m\u001b[1;33m)\u001b[0m\u001b[1;33m\u001b[0m\u001b[1;33m\u001b[0m\u001b[0m\n\u001b[1;32m--> 856\u001b[1;33m         \u001b[0mfp\u001b[0m \u001b[1;33m=\u001b[0m \u001b[0mopen\u001b[0m\u001b[1;33m(\u001b[0m\u001b[0mfp\u001b[0m\u001b[1;33m,\u001b[0m \u001b[1;34m'rb'\u001b[0m\u001b[1;33m)\u001b[0m\u001b[1;33m\u001b[0m\u001b[1;33m\u001b[0m\u001b[0m\n\u001b[0m\u001b[0;32m    857\u001b[0m \u001b[1;33m\u001b[0m\u001b[0m\n\u001b[0;32m    858\u001b[0m     \u001b[1;32mif\u001b[0m \u001b[0mconfig\u001b[0m\u001b[1;33m.\u001b[0m\u001b[0mdebugging\u001b[0m\u001b[1;33m:\u001b[0m\u001b[1;33m\u001b[0m\u001b[1;33m\u001b[0m\u001b[0m\n",
      "\u001b[1;31mFileNotFoundError\u001b[0m: [Errno 2] No such file or directory: '000000.dcm'"
     ]
    }
   ],
   "source": [
    "single_file = file_list[0]\n",
    "data, image = load_dicom_image(single_file)"
   ]
  },
  {
   "cell_type": "markdown",
   "metadata": {},
   "source": [
    "## Why does this break? Try to fix it yourself"
   ]
  },
  {
   "cell_type": "markdown",
   "metadata": {},
   "source": [
    "### Don't look at the solution beneath either.."
   ]
  },
  {
   "cell_type": "markdown",
   "metadata": {},
   "source": [
    "The reason is that we didn't specify the path! Just the image file, and since our code is located in a different folder, it doesn't see the '000000.dcm' file, we need to add it to the file path"
   ]
  },
  {
   "cell_type": "code",
   "execution_count": 137,
   "metadata": {},
   "outputs": [],
   "source": [
    "single_file = os.path.join(path,file_list[0])\n",
    "data, image = load_dicom_image(single_file)"
   ]
  },
  {
   "cell_type": "markdown",
   "metadata": {},
   "source": [
    "Lets take a look at the image now"
   ]
  },
  {
   "cell_type": "code",
   "execution_count": 138,
   "metadata": {},
   "outputs": [],
   "source": [
    "from matplotlib import pyplot"
   ]
  },
  {
   "cell_type": "code",
   "execution_count": 139,
   "metadata": {},
   "outputs": [
    {
     "data": {
      "text/plain": [
       "<matplotlib.image.AxesImage at 0x24780c22898>"
      ]
     },
     "execution_count": 139,
     "metadata": {},
     "output_type": "execute_result"
    },
    {
     "data": {
      "image/png": "[encoded data removed]",
      "text/plain": [
       "<Figure size 432x288 with 1 Axes>"
      ]
     },
     "metadata": {
      "needs_background": "light"
     },
     "output_type": "display_data"
    }
   ],
   "source": [
    "pyplot.imshow(image, cmap='gray')"
   ]
  },
  {
   "cell_type": "markdown",
   "metadata": {},
   "source": [
    "### Load all of the images\n",
    "\n",
    "Remember that we have an RT structure in there, so try to fill in the code below to get all of the dicom images"
   ]
  },
  {
   "cell_type": "code",
   "execution_count": 140,
   "metadata": {},
   "outputs": [],
   "source": [
    "import numpy as np # Numpy lets us make data arrays, like the 3D structure we'll need to represent this dicom"
   ]
  },
  {
   "cell_type": "code",
   "execution_count": 141,
   "metadata": {},
   "outputs": [
    {
     "name": "stdout",
     "output_type": "stream",
     "text": [
      "['..\\\\TCIA-Images\\\\HN_Pat_1\\\\000000.dcm', '..\\\\TCIA-Images\\\\HN_Pat_1\\\\000001.dcm', '..\\\\TCIA-Images\\\\HN_Pat_1\\\\000002.dcm', '..\\\\TCIA-Images\\\\HN_Pat_1\\\\000003.dcm', '..\\\\TCIA-Images\\\\HN_Pat_1\\\\000004.dcm', '..\\\\TCIA-Images\\\\HN_Pat_1\\\\000005.dcm', '..\\\\TCIA-Images\\\\HN_Pat_1\\\\000006.dcm', '..\\\\TCIA-Images\\\\HN_Pat_1\\\\000007.dcm', '..\\\\TCIA-Images\\\\HN_Pat_1\\\\000008.dcm', '..\\\\TCIA-Images\\\\HN_Pat_1\\\\000009.dcm', '..\\\\TCIA-Images\\\\HN_Pat_1\\\\000010.dcm', '..\\\\TCIA-Images\\\\HN_Pat_1\\\\000011.dcm', '..\\\\TCIA-Images\\\\HN_Pat_1\\\\000012.dcm', '..\\\\TCIA-Images\\\\HN_Pat_1\\\\000013.dcm', '..\\\\TCIA-Images\\\\HN_Pat_1\\\\000014.dcm', '..\\\\TCIA-Images\\\\HN_Pat_1\\\\000015.dcm', '..\\\\TCIA-Images\\\\HN_Pat_1\\\\000016.dcm', '..\\\\TCIA-Images\\\\HN_Pat_1\\\\000017.dcm', '..\\\\TCIA-Images\\\\HN_Pat_1\\\\000018.dcm', '..\\\\TCIA-Images\\\\HN_Pat_1\\\\000019.dcm', '..\\\\TCIA-Images\\\\HN_Pat_1\\\\000020.dcm', '..\\\\TCIA-Images\\\\HN_Pat_1\\\\000021.dcm', '..\\\\TCIA-Images\\\\HN_Pat_1\\\\000022.dcm', '..\\\\TCIA-Images\\\\HN_Pat_1\\\\000023.dcm', '..\\\\TCIA-Images\\\\HN_Pat_1\\\\000024.dcm', '..\\\\TCIA-Images\\\\HN_Pat_1\\\\000025.dcm', '..\\\\TCIA-Images\\\\HN_Pat_1\\\\000026.dcm', '..\\\\TCIA-Images\\\\HN_Pat_1\\\\000027.dcm', '..\\\\TCIA-Images\\\\HN_Pat_1\\\\000028.dcm', '..\\\\TCIA-Images\\\\HN_Pat_1\\\\000029.dcm', '..\\\\TCIA-Images\\\\HN_Pat_1\\\\000030.dcm', '..\\\\TCIA-Images\\\\HN_Pat_1\\\\000031.dcm', '..\\\\TCIA-Images\\\\HN_Pat_1\\\\000032.dcm', '..\\\\TCIA-Images\\\\HN_Pat_1\\\\000033.dcm', '..\\\\TCIA-Images\\\\HN_Pat_1\\\\000034.dcm', '..\\\\TCIA-Images\\\\HN_Pat_1\\\\000035.dcm', '..\\\\TCIA-Images\\\\HN_Pat_1\\\\000036.dcm', '..\\\\TCIA-Images\\\\HN_Pat_1\\\\000037.dcm', '..\\\\TCIA-Images\\\\HN_Pat_1\\\\000038.dcm', '..\\\\TCIA-Images\\\\HN_Pat_1\\\\000039.dcm', '..\\\\TCIA-Images\\\\HN_Pat_1\\\\000040.dcm', '..\\\\TCIA-Images\\\\HN_Pat_1\\\\000041.dcm', '..\\\\TCIA-Images\\\\HN_Pat_1\\\\000042.dcm', '..\\\\TCIA-Images\\\\HN_Pat_1\\\\000043.dcm', '..\\\\TCIA-Images\\\\HN_Pat_1\\\\000044.dcm', '..\\\\TCIA-Images\\\\HN_Pat_1\\\\000045.dcm', '..\\\\TCIA-Images\\\\HN_Pat_1\\\\000046.dcm', '..\\\\TCIA-Images\\\\HN_Pat_1\\\\000047.dcm', '..\\\\TCIA-Images\\\\HN_Pat_1\\\\000048.dcm', '..\\\\TCIA-Images\\\\HN_Pat_1\\\\000049.dcm', '..\\\\TCIA-Images\\\\HN_Pat_1\\\\000050.dcm', '..\\\\TCIA-Images\\\\HN_Pat_1\\\\000051.dcm', '..\\\\TCIA-Images\\\\HN_Pat_1\\\\000052.dcm', '..\\\\TCIA-Images\\\\HN_Pat_1\\\\000053.dcm', '..\\\\TCIA-Images\\\\HN_Pat_1\\\\000054.dcm', '..\\\\TCIA-Images\\\\HN_Pat_1\\\\000055.dcm', '..\\\\TCIA-Images\\\\HN_Pat_1\\\\000056.dcm', '..\\\\TCIA-Images\\\\HN_Pat_1\\\\000057.dcm', '..\\\\TCIA-Images\\\\HN_Pat_1\\\\000058.dcm', '..\\\\TCIA-Images\\\\HN_Pat_1\\\\000059.dcm', '..\\\\TCIA-Images\\\\HN_Pat_1\\\\000060.dcm', '..\\\\TCIA-Images\\\\HN_Pat_1\\\\000061.dcm', '..\\\\TCIA-Images\\\\HN_Pat_1\\\\000062.dcm', '..\\\\TCIA-Images\\\\HN_Pat_1\\\\000063.dcm', '..\\\\TCIA-Images\\\\HN_Pat_1\\\\000064.dcm', '..\\\\TCIA-Images\\\\HN_Pat_1\\\\000065.dcm', '..\\\\TCIA-Images\\\\HN_Pat_1\\\\000066.dcm', '..\\\\TCIA-Images\\\\HN_Pat_1\\\\000067.dcm', '..\\\\TCIA-Images\\\\HN_Pat_1\\\\000068.dcm', '..\\\\TCIA-Images\\\\HN_Pat_1\\\\000069.dcm', '..\\\\TCIA-Images\\\\HN_Pat_1\\\\000070.dcm', '..\\\\TCIA-Images\\\\HN_Pat_1\\\\000071.dcm', '..\\\\TCIA-Images\\\\HN_Pat_1\\\\000072.dcm', '..\\\\TCIA-Images\\\\HN_Pat_1\\\\000073.dcm', '..\\\\TCIA-Images\\\\HN_Pat_1\\\\000074.dcm', '..\\\\TCIA-Images\\\\HN_Pat_1\\\\000075.dcm', '..\\\\TCIA-Images\\\\HN_Pat_1\\\\000076.dcm', '..\\\\TCIA-Images\\\\HN_Pat_1\\\\000077.dcm', '..\\\\TCIA-Images\\\\HN_Pat_1\\\\000078.dcm', '..\\\\TCIA-Images\\\\HN_Pat_1\\\\000079.dcm', '..\\\\TCIA-Images\\\\HN_Pat_1\\\\000080.dcm', '..\\\\TCIA-Images\\\\HN_Pat_1\\\\000081.dcm', '..\\\\TCIA-Images\\\\HN_Pat_1\\\\000082.dcm', '..\\\\TCIA-Images\\\\HN_Pat_1\\\\000083.dcm', '..\\\\TCIA-Images\\\\HN_Pat_1\\\\000084.dcm', '..\\\\TCIA-Images\\\\HN_Pat_1\\\\000085.dcm', '..\\\\TCIA-Images\\\\HN_Pat_1\\\\000086.dcm', '..\\\\TCIA-Images\\\\HN_Pat_1\\\\000087.dcm', '..\\\\TCIA-Images\\\\HN_Pat_1\\\\000088.dcm', '..\\\\TCIA-Images\\\\HN_Pat_1\\\\000089.dcm', '..\\\\TCIA-Images\\\\HN_Pat_1\\\\000090.dcm', '..\\\\TCIA-Images\\\\HN_Pat_1\\\\000091.dcm', '..\\\\TCIA-Images\\\\HN_Pat_1\\\\000092.dcm', '..\\\\TCIA-Images\\\\HN_Pat_1\\\\000093.dcm', '..\\\\TCIA-Images\\\\HN_Pat_1\\\\000094.dcm', '..\\\\TCIA-Images\\\\HN_Pat_1\\\\000095.dcm', '..\\\\TCIA-Images\\\\HN_Pat_1\\\\000096.dcm', '..\\\\TCIA-Images\\\\HN_Pat_1\\\\000097.dcm', '..\\\\TCIA-Images\\\\HN_Pat_1\\\\000098.dcm', '..\\\\TCIA-Images\\\\HN_Pat_1\\\\000099.dcm', '..\\\\TCIA-Images\\\\HN_Pat_1\\\\000100.dcm', '..\\\\TCIA-Images\\\\HN_Pat_1\\\\000101.dcm', '..\\\\TCIA-Images\\\\HN_Pat_1\\\\000102.dcm', '..\\\\TCIA-Images\\\\HN_Pat_1\\\\000103.dcm', '..\\\\TCIA-Images\\\\HN_Pat_1\\\\000104.dcm', '..\\\\TCIA-Images\\\\HN_Pat_1\\\\000105.dcm', '..\\\\TCIA-Images\\\\HN_Pat_1\\\\000106.dcm', '..\\\\TCIA-Images\\\\HN_Pat_1\\\\000107.dcm', '..\\\\TCIA-Images\\\\HN_Pat_1\\\\000108.dcm', '..\\\\TCIA-Images\\\\HN_Pat_1\\\\000109.dcm', '..\\\\TCIA-Images\\\\HN_Pat_1\\\\000110.dcm', '..\\\\TCIA-Images\\\\HN_Pat_1\\\\000111.dcm', '..\\\\TCIA-Images\\\\HN_Pat_1\\\\000112.dcm', '..\\\\TCIA-Images\\\\HN_Pat_1\\\\000113.dcm', '..\\\\TCIA-Images\\\\HN_Pat_1\\\\000114.dcm', '..\\\\TCIA-Images\\\\HN_Pat_1\\\\000115.dcm', '..\\\\TCIA-Images\\\\HN_Pat_1\\\\000116.dcm']\n"
     ]
    }
   ],
   "source": [
    "#Try to understand what each part of this is doing\n",
    "image_files = [os.path.join(path,file) for file in file_list if file.find('RS') == -1] \n",
    "print(image_files)"
   ]
  },
  {
   "cell_type": "code",
   "execution_count": 142,
   "metadata": {},
   "outputs": [],
   "source": [
    "# The exact same thing is written out below\n",
    "image_files = []\n",
    "for file in file_list:\n",
    "    if file.find('RS') == -1:  # Aka, if the file does not have the letters RS in it, continue\n",
    "        image_files.append(os.path.join(path,file))"
   ]
  },
  {
   "cell_type": "markdown",
   "metadata": {},
   "source": [
    "Lets prep our data matrix, we know it will be [512, 512, #image files] in size"
   ]
  },
  {
   "cell_type": "code",
   "execution_count": 143,
   "metadata": {},
   "outputs": [],
   "source": [
    "image_array = np.empty([512,512,len(image_files)])"
   ]
  },
  {
   "cell_type": "markdown",
   "metadata": {},
   "source": [
    "We want the last index in our image_array to fill in the image data with each step, we can do a counter, like below"
   ]
  },
  {
   "cell_type": "code",
   "execution_count": 144,
   "metadata": {},
   "outputs": [],
   "source": [
    "i = 0\n",
    "for file in image_files:\n",
    "    _, image_array[:,:,i] = load_dicom_image(file)\n",
    "    i += 1"
   ]
  },
  {
   "cell_type": "markdown",
   "metadata": {},
   "source": [
    "Or we can use enumerate, which returns the value that we want, as well as a number counting"
   ]
  },
  {
   "cell_type": "code",
   "execution_count": 145,
   "metadata": {},
   "outputs": [],
   "source": [
    "for i, file in enumerate(image_files):\n",
    "    _, image_array[:,:,i] = load_dicom_image(file)"
   ]
  },
  {
   "cell_type": "markdown",
   "metadata": {},
   "source": [
    "## Visualizing the whole patient"
   ]
  },
  {
   "cell_type": "code",
   "execution_count": 146,
   "metadata": {},
   "outputs": [],
   "source": [
    "import numpy as np\n",
    "import matplotlib.pyplot as plt\n",
    "import SimpleITK as sitk\n",
    "import copy\n",
    "from ipywidgets import interact, interactive, fixed, interact_manual, IntSlider, HBox, jslink\n",
    "from ipywidgets import interact, interactive, fixed, interact_manual, IntSlider"
   ]
  },
  {
   "cell_type": "code",
   "execution_count": 147,
   "metadata": {
    "scrolled": false
   },
   "outputs": [],
   "source": [
    "def custom_myshow1(img, title=None, margin=0.05, dpi=80):\n",
    "    nda = sitk.GetArrayFromImage(img)\n",
    "    spacing = img.GetSpacing()\n",
    "\n",
    "    if nda.ndim == 3:\n",
    "        # fastest dim, either component or x\n",
    "        c = nda.shape[-1]\n",
    "\n",
    "        # the the number of components is 3 or 4 consider it an RGB image\n",
    "        if not c in (3, 4):\n",
    "            nda = nda[nda.shape[0] // 2, :, :]\n",
    "\n",
    "    elif nda.ndim == 4:\n",
    "        c = nda.shape[-1]\n",
    "\n",
    "        if not c in (3, 4):\n",
    "            raise Runtime(\"Unable to show 3D-vector Image\")\n",
    "\n",
    "        # take a z-slice\n",
    "        nda = nda[nda.shape[0] // 2, :, :, :]\n",
    "\n",
    "    ysize = nda.shape[1]\n",
    "    xsize = nda.shape[1]\n",
    "\n",
    "    # Make a figure big enough to accomodate an axis of xpixels by ypixels\n",
    "    # as well as the ticklabels, etc...\n",
    "\n",
    "    plt.close('all')\n",
    "    plt.clf()\n",
    "\n",
    "    figsize = ysize/100, xsize/100\n",
    "    fig, ax = plt.subplots(1, 1, figsize=figsize)\n",
    "#     plt.subplots_adjust(left=0.25, bottom=0.25)\n",
    "\n",
    "    t = ax.imshow(nda, cmap='gray', interpolation=None)\n",
    "    ax.set_title('use scroll bar to navigate images')\n",
    "\n",
    "    plt.show()\n",
    "\n",
    "class update_class(object):\n",
    "    def __init__(self,image_array):\n",
    "        self.image_array = copy.deepcopy(image_array)\n",
    "        self.selected_images = sitk.GetImageFromArray(np.transpose(self.image_array,[-1,0,1]), isVector=False)\n",
    "        self.run()\n",
    "    def update(self, Z):\n",
    "        slices = [selected_images[:, :, Z]]\n",
    "        dpi = 50\n",
    "        custom_myshow1(sitk.Tile(slices), dpi=dpi, margin=0.00)\n",
    "    def run(self):\n",
    "        size = self.selected_images.GetSize()\n",
    "        self.interactive_plot = interactive(self.update, X=IntSlider(min=0, max=size[0] - 1), Y=IntSlider(min=0, max=size[1] - 1),\n",
    "                               Z=IntSlider(min=0, max=size[2] - 1))\n",
    "#         output = interactive_plot.children[-1]\n",
    "#         output.layout.height = '600px'"
   ]
  },
  {
   "cell_type": "code",
   "execution_count": 148,
   "metadata": {
    "scrolled": true
   },
   "outputs": [
    {
     "data": {
      "application/vnd.jupyter.widget-view+json": {
       "model_id": "6fff07993f80406aa0b06a3b23089b6a",
       "version_major": 2,
       "version_minor": 0
      },
      "text/plain": [
       "interactive(children=(IntSlider(value=0, description='Z', max=116), Output()), _dom_classes=('widget-interact'…"
      ]
     },
     "metadata": {},
     "output_type": "display_data"
    }
   ],
   "source": [
    "class_val = update_class(image_array) # Put the images in\n",
    "class_val.interactive_plot # Display them"
   ]
  },
  {
   "cell_type": "markdown",
   "metadata": {},
   "source": [
    "Why are our image slices out of order? Look back at how we defined the 3D array, we just said 'load up the images based on file name', but in computer lanuage file_2 and file_21 go side by side, we'll need to take in information about the slice spacing to get this right\n",
    "\n",
    "Lets make a dictionary that has each file and it's slice location"
   ]
  },
  {
   "cell_type": "code",
   "execution_count": 149,
   "metadata": {},
   "outputs": [],
   "source": [
    "slice_list = []\n",
    "for i, file in enumerate(image_files):\n",
    "    dicom_info, image = load_dicom_image(file)\n",
    "    slice_location = dicom_info.SliceLocation\n",
    "    slice_list.append(float(slice_location))\n",
    "    image_array[:,:,i] = image\n",
    "slice_list = np.asarray(slice_list)"
   ]
  },
  {
   "cell_type": "markdown",
   "metadata": {},
   "source": [
    "## Sorting the slices"
   ]
  },
  {
   "cell_type": "markdown",
   "metadata": {},
   "source": [
    "Okay, so we can sort the slices like this, but what we want is a set of indexes to change our image array by"
   ]
  },
  {
   "cell_type": "code",
   "execution_count": 150,
   "metadata": {},
   "outputs": [
    {
     "name": "stdout",
     "output_type": "stream",
     "text": [
      "1178.31\n",
      "1180.81\n",
      "1183.31\n",
      "1185.81\n",
      "1188.25\n",
      "1190.81\n",
      "1193.25\n",
      "1195.75\n",
      "1198.31\n",
      "1200.81\n",
      "1203.31\n",
      "1205.75\n",
      "1208.25\n",
      "1210.5\n",
      "1213.06\n",
      "1215.56\n",
      "1218.0\n",
      "1220.5\n",
      "1223.06\n",
      "1225.56\n",
      "1228.0\n",
      "1230.5\n",
      "1233.0\n",
      "1235.56\n",
      "1238.06\n",
      "1240.5\n",
      "1242.75\n",
      "1245.31\n",
      "1247.81\n",
      "1250.31\n",
      "1252.75\n",
      "1255.25\n",
      "1257.81\n",
      "1260.31\n",
      "1262.75\n",
      "1265.31\n",
      "1267.81\n",
      "1270.31\n",
      "1272.81\n",
      "1275.0\n",
      "1277.5\n",
      "1280.06\n",
      "1282.56\n",
      "1285.06\n",
      "1287.56\n",
      "1290.06\n",
      "1292.56\n",
      "1295.06\n",
      "1297.56\n",
      "1300.06\n",
      "1302.56\n",
      "1305.12\n",
      "1307.31\n",
      "1309.75\n",
      "1312.25\n",
      "1314.81\n",
      "1317.31\n",
      "1319.81\n",
      "1322.25\n",
      "1324.75\n",
      "1327.31\n",
      "1329.81\n",
      "1332.25\n",
      "1334.81\n",
      "1337.31\n",
      "1339.56\n",
      "1342.06\n",
      "1344.5\n",
      "1347.06\n",
      "1349.56\n",
      "1352.06\n",
      "1354.56\n",
      "1357.06\n",
      "1359.56\n",
      "1362.06\n",
      "1364.56\n",
      "1367.06\n",
      "1369.56\n",
      "1371.81\n",
      "1374.37\n",
      "1376.81\n",
      "1379.31\n",
      "1381.81\n",
      "1384.31\n",
      "1386.87\n",
      "1389.31\n",
      "1391.81\n",
      "1394.37\n",
      "1396.87\n",
      "1399.31\n",
      "1401.81\n",
      "1404.06\n",
      "1406.62\n",
      "1409.12\n",
      "1411.56\n",
      "1414.06\n",
      "1416.56\n",
      "1419.12\n",
      "1421.62\n",
      "1424.06\n",
      "1426.62\n",
      "1429.12\n",
      "1431.62\n",
      "1434.12\n",
      "1436.37\n",
      "1438.87\n",
      "1441.37\n",
      "1443.87\n",
      "1446.31\n",
      "1448.87\n",
      "1451.37\n",
      "1453.87\n",
      "1456.37\n",
      "1458.87\n",
      "1461.37\n",
      "1463.87\n",
      "1466.37\n"
     ]
    }
   ],
   "source": [
    "for i in sorted(slice_list):\n",
    "    print(i)"
   ]
  },
  {
   "cell_type": "markdown",
   "metadata": {},
   "source": [
    "And if you remember, by putting enumerate() around something we get the index of it"
   ]
  },
  {
   "cell_type": "code",
   "execution_count": 151,
   "metadata": {},
   "outputs": [
    {
     "name": "stdout",
     "output_type": "stream",
     "text": [
      "(0, 1180.81)\n",
      "(1, 1431.62)\n",
      "(2, 1456.37)\n",
      "(3, 1342.06)\n",
      "(4, 1384.31)\n",
      "(5, 1411.56)\n",
      "(6, 1300.06)\n",
      "(7, 1362.06)\n",
      "(8, 1245.31)\n",
      "(9, 1233.0)\n",
      "(10, 1185.81)\n",
      "(11, 1327.31)\n",
      "(12, 1312.25)\n",
      "(13, 1188.25)\n",
      "(14, 1349.56)\n",
      "(15, 1406.62)\n",
      "(16, 1282.56)\n",
      "(17, 1329.81)\n",
      "(18, 1295.06)\n",
      "(19, 1220.5)\n",
      "(20, 1195.75)\n",
      "(21, 1200.81)\n",
      "(22, 1257.81)\n",
      "(23, 1290.06)\n",
      "(24, 1183.31)\n",
      "(25, 1399.31)\n",
      "(26, 1369.56)\n",
      "(27, 1260.31)\n",
      "(28, 1424.06)\n",
      "(29, 1352.06)\n",
      "(30, 1367.06)\n",
      "(31, 1416.56)\n",
      "(32, 1429.12)\n",
      "(33, 1322.25)\n",
      "(34, 1242.75)\n",
      "(35, 1389.31)\n",
      "(36, 1421.62)\n",
      "(37, 1292.56)\n",
      "(38, 1223.06)\n",
      "(39, 1446.31)\n",
      "(40, 1190.81)\n",
      "(41, 1379.31)\n",
      "(42, 1215.56)\n",
      "(43, 1451.37)\n",
      "(44, 1238.06)\n",
      "(45, 1319.81)\n",
      "(46, 1461.37)\n",
      "(47, 1205.75)\n",
      "(48, 1396.87)\n",
      "(49, 1391.81)\n",
      "(50, 1434.12)\n",
      "(51, 1208.25)\n",
      "(52, 1285.06)\n",
      "(53, 1332.25)\n",
      "(54, 1235.56)\n",
      "(55, 1267.81)\n",
      "(56, 1314.81)\n",
      "(57, 1337.31)\n",
      "(58, 1354.56)\n",
      "(59, 1230.5)\n",
      "(60, 1466.37)\n",
      "(61, 1317.31)\n",
      "(62, 1307.31)\n",
      "(63, 1193.25)\n",
      "(64, 1324.75)\n",
      "(65, 1414.06)\n",
      "(66, 1357.06)\n",
      "(67, 1272.81)\n",
      "(68, 1463.87)\n",
      "(69, 1359.56)\n",
      "(70, 1228.0)\n",
      "(71, 1394.37)\n",
      "(72, 1334.81)\n",
      "(73, 1438.87)\n",
      "(74, 1419.12)\n",
      "(75, 1409.12)\n",
      "(76, 1250.31)\n",
      "(77, 1458.87)\n",
      "(78, 1275.0)\n",
      "(79, 1381.81)\n",
      "(80, 1225.56)\n",
      "(81, 1344.5)\n",
      "(82, 1305.12)\n",
      "(83, 1203.31)\n",
      "(84, 1436.37)\n",
      "(85, 1262.75)\n",
      "(86, 1448.87)\n",
      "(87, 1287.56)\n",
      "(88, 1347.06)\n",
      "(89, 1401.81)\n",
      "(90, 1443.87)\n",
      "(91, 1240.5)\n",
      "(92, 1302.56)\n",
      "(93, 1297.56)\n",
      "(94, 1255.25)\n",
      "(95, 1309.75)\n",
      "(96, 1210.5)\n",
      "(97, 1386.87)\n",
      "(98, 1426.62)\n",
      "(99, 1441.37)\n",
      "(100, 1404.06)\n",
      "(101, 1374.37)\n",
      "(102, 1178.31)\n",
      "(103, 1277.5)\n",
      "(104, 1364.56)\n",
      "(105, 1339.56)\n",
      "(106, 1218.0)\n",
      "(107, 1376.81)\n",
      "(108, 1280.06)\n",
      "(109, 1453.87)\n",
      "(110, 1198.31)\n",
      "(111, 1371.81)\n",
      "(112, 1265.31)\n",
      "(113, 1252.75)\n",
      "(114, 1247.81)\n",
      "(115, 1270.31)\n",
      "(116, 1213.06)\n"
     ]
    }
   ],
   "source": [
    "for i in sorted(enumerate(slice_list)):\n",
    "    print(i)"
   ]
  },
  {
   "cell_type": "markdown",
   "metadata": {},
   "source": [
    "Now this is the really tricky part.. we want to sort the values based on their slice location, and pull the index, here is one way to do it"
   ]
  },
  {
   "cell_type": "code",
   "execution_count": 152,
   "metadata": {},
   "outputs": [
    {
     "name": "stdout",
     "output_type": "stream",
     "text": [
      "(102, 1178.31)\n",
      "(0, 1180.81)\n",
      "(24, 1183.31)\n",
      "(10, 1185.81)\n",
      "(13, 1188.25)\n",
      "(40, 1190.81)\n",
      "(63, 1193.25)\n",
      "(20, 1195.75)\n",
      "(110, 1198.31)\n",
      "(21, 1200.81)\n",
      "(83, 1203.31)\n",
      "(47, 1205.75)\n",
      "(51, 1208.25)\n",
      "(96, 1210.5)\n",
      "(116, 1213.06)\n",
      "(42, 1215.56)\n",
      "(106, 1218.0)\n",
      "(19, 1220.5)\n",
      "(38, 1223.06)\n",
      "(80, 1225.56)\n",
      "(70, 1228.0)\n",
      "(59, 1230.5)\n",
      "(9, 1233.0)\n",
      "(54, 1235.56)\n",
      "(44, 1238.06)\n",
      "(91, 1240.5)\n",
      "(34, 1242.75)\n",
      "(8, 1245.31)\n",
      "(114, 1247.81)\n",
      "(76, 1250.31)\n",
      "(113, 1252.75)\n",
      "(94, 1255.25)\n",
      "(22, 1257.81)\n",
      "(27, 1260.31)\n",
      "(85, 1262.75)\n",
      "(112, 1265.31)\n",
      "(55, 1267.81)\n",
      "(115, 1270.31)\n",
      "(67, 1272.81)\n",
      "(78, 1275.0)\n",
      "(103, 1277.5)\n",
      "(108, 1280.06)\n",
      "(16, 1282.56)\n",
      "(52, 1285.06)\n",
      "(87, 1287.56)\n",
      "(23, 1290.06)\n",
      "(37, 1292.56)\n",
      "(18, 1295.06)\n",
      "(93, 1297.56)\n",
      "(6, 1300.06)\n",
      "(92, 1302.56)\n",
      "(82, 1305.12)\n",
      "(62, 1307.31)\n",
      "(95, 1309.75)\n",
      "(12, 1312.25)\n",
      "(56, 1314.81)\n",
      "(61, 1317.31)\n",
      "(45, 1319.81)\n",
      "(33, 1322.25)\n",
      "(64, 1324.75)\n",
      "(11, 1327.31)\n",
      "(17, 1329.81)\n",
      "(53, 1332.25)\n",
      "(72, 1334.81)\n",
      "(57, 1337.31)\n",
      "(105, 1339.56)\n",
      "(3, 1342.06)\n",
      "(81, 1344.5)\n",
      "(88, 1347.06)\n",
      "(14, 1349.56)\n",
      "(29, 1352.06)\n",
      "(58, 1354.56)\n",
      "(66, 1357.06)\n",
      "(69, 1359.56)\n",
      "(7, 1362.06)\n",
      "(104, 1364.56)\n",
      "(30, 1367.06)\n",
      "(26, 1369.56)\n",
      "(111, 1371.81)\n",
      "(101, 1374.37)\n",
      "(107, 1376.81)\n",
      "(41, 1379.31)\n",
      "(79, 1381.81)\n",
      "(4, 1384.31)\n",
      "(97, 1386.87)\n",
      "(35, 1389.31)\n",
      "(49, 1391.81)\n",
      "(71, 1394.37)\n",
      "(48, 1396.87)\n",
      "(25, 1399.31)\n",
      "(89, 1401.81)\n",
      "(100, 1404.06)\n",
      "(15, 1406.62)\n",
      "(75, 1409.12)\n",
      "(5, 1411.56)\n",
      "(65, 1414.06)\n",
      "(31, 1416.56)\n",
      "(74, 1419.12)\n",
      "(36, 1421.62)\n",
      "(28, 1424.06)\n",
      "(98, 1426.62)\n",
      "(32, 1429.12)\n",
      "(1, 1431.62)\n",
      "(50, 1434.12)\n",
      "(84, 1436.37)\n",
      "(73, 1438.87)\n",
      "(99, 1441.37)\n",
      "(90, 1443.87)\n",
      "(39, 1446.31)\n",
      "(86, 1448.87)\n",
      "(43, 1451.37)\n",
      "(109, 1453.87)\n",
      "(2, 1456.37)\n",
      "(77, 1458.87)\n",
      "(46, 1461.37)\n",
      "(68, 1463.87)\n",
      "(60, 1466.37)\n",
      "[102, 0, 24, 10, 13, 40, 63, 20, 110, 21, 83, 47, 51, 96, 116, 42, 106, 19, 38, 80, 70, 59, 9, 54, 44, 91, 34, 8, 114, 76, 113, 94, 22, 27, 85, 112, 55, 115, 67, 78, 103, 108, 16, 52, 87, 23, 37, 18, 93, 6, 92, 82, 62, 95, 12, 56, 61, 45, 33, 64, 11, 17, 53, 72, 57, 105, 3, 81, 88, 14, 29, 58, 66, 69, 7, 104, 30, 26, 111, 101, 107, 41, 79, 4, 97, 35, 49, 71, 48, 25, 89, 100, 15, 75, 5, 65, 31, 74, 36, 28, 98, 32, 1, 50, 84, 73, 99, 90, 39, 86, 43, 109, 2, 77, 46, 68, 60]\n"
     ]
    }
   ],
   "source": [
    "indexes = []\n",
    "for i in sorted(enumerate(slice_list), key=lambda x:x[1]):\n",
    "    print(i)\n",
    "    indexes.append(i[0])\n",
    "print(indexes)"
   ]
  },
  {
   "cell_type": "markdown",
   "metadata": {},
   "source": [
    "Or.. you can use the handy features within numpy to help you out"
   ]
  },
  {
   "cell_type": "code",
   "execution_count": 153,
   "metadata": {},
   "outputs": [
    {
     "name": "stdout",
     "output_type": "stream",
     "text": [
      "[102, 0, 24, 10, 13, 40, 63, 20, 110, 21, 83, 47, 51, 96, 116, 42, 106, 19, 38, 80, 70, 59, 9, 54, 44, 91, 34, 8, 114, 76, 113, 94, 22, 27, 85, 112, 55, 115, 67, 78, 103, 108, 16, 52, 87, 23, 37, 18, 93, 6, 92, 82, 62, 95, 12, 56, 61, 45, 33, 64, 11, 17, 53, 72, 57, 105, 3, 81, 88, 14, 29, 58, 66, 69, 7, 104, 30, 26, 111, 101, 107, 41, 79, 4, 97, 35, 49, 71, 48, 25, 89, 100, 15, 75, 5, 65, 31, 74, 36, 28, 98, 32, 1, 50, 84, 73, 99, 90, 39, 86, 43, 109, 2, 77, 46, 68, 60]\n"
     ]
    }
   ],
   "source": [
    "indexes = np.argsort(slice_list)\n",
    "print(list(indexes))"
   ]
  },
  {
   "cell_type": "markdown",
   "metadata": {},
   "source": [
    "## Reindex the images"
   ]
  },
  {
   "cell_type": "code",
   "execution_count": 154,
   "metadata": {},
   "outputs": [],
   "source": [
    "image_array = image_array[...,indexes]"
   ]
  },
  {
   "cell_type": "code",
   "execution_count": 155,
   "metadata": {},
   "outputs": [
    {
     "data": {
      "text/plain": [
       "<matplotlib.image.AxesImage at 0x24780085550>"
      ]
     },
     "execution_count": 155,
     "metadata": {},
     "output_type": "execute_result"
    },
    {
     "data": {
      "image/png": "[encoded data removed]",
      "text/plain": [
       "<Figure size 432x288 with 1 Axes>"
      ]
     },
     "metadata": {
      "needs_background": "light"
     },
     "output_type": "display_data"
    }
   ],
   "source": [
    "pyplot.imshow(image_array[...,1])"
   ]
  },
  {
   "cell_type": "code",
   "execution_count": 157,
   "metadata": {
    "scrolled": false
   },
   "outputs": [
    {
     "data": {
      "application/vnd.jupyter.widget-view+json": {
       "model_id": "6349b8e48aeb49ccab83d7eb751b1894",
       "version_major": 2,
       "version_minor": 0
      },
      "text/plain": [
       "interactive(children=(IntSlider(value=0, description='Z', max=116), Output()), _dom_classes=('widget-interact'…"
      ]
     },
     "metadata": {},
     "output_type": "display_data"
    }
   ],
   "source": [
    "class_val = update_class(image_array) # Put the images in\n",
    "class_val.interactive_plot # Display them"
   ]
  },
  {
   "cell_type": "code",
   "execution_count": null,
   "metadata": {},
   "outputs": [],
   "source": []
  }
 ],
 "metadata": {
  "kernelspec": {
   "display_name": "Python 3",
   "language": "python",
   "name": "python3"
  },
  "language_info": {
   "codemirror_mode": {
    "name": "ipython",
    "version": 3
   },
   "file_extension": ".py",
   "mimetype": "text/x-python",
   "name": "python",
   "nbconvert_exporter": "python",
   "pygments_lexer": "ipython3",
   "version": "3.6.8"
  }
 },
 "nbformat": 4,
 "nbformat_minor": 2
}
