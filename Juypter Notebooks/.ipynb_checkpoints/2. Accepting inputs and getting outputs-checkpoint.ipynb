{
 "cells": [
  {
   "cell_type": "markdown",
   "metadata": {},
   "source": [
    "# Inputs\n",
    "## We saw from the hello world how to specify an input"
   ]
  },
  {
   "cell_type": "code",
   "execution_count": 2,
   "metadata": {},
   "outputs": [],
   "source": [
    "def hello_you(name):\n",
    "    print('Hello ' + name)"
   ]
  },
  {
   "cell_type": "markdown",
   "metadata": {},
   "source": [
    "## But now we want to get an actual output, we'll show this with a simple addition\n",
    "### The return command gives back a specified value"
   ]
  },
  {
   "cell_type": "code",
   "execution_count": 6,
   "metadata": {},
   "outputs": [],
   "source": [
    "def add_two_numbers(num1,num2):\n",
    "    summed = num1 + num2\n",
    "    return summed"
   ]
  },
  {
   "cell_type": "markdown",
   "metadata": {},
   "source": [
    "## So now if we want to get the sum between two numbers, we can call the defintion as follows"
   ]
  },
  {
   "cell_type": "code",
   "execution_count": null,
   "metadata": {},
   "outputs": [],
   "source": [
    "x, y = 5, 3\n",
    "z = add_two_numbers(x,y)\n",
    "print(z)"
   ]
  },
  {
   "cell_type": "markdown",
   "metadata": {},
   "source": [
    "An important feature in Python is being able to use the same module for multiple things, lets try this with something else\n",
    "\n",
    "Create a python file within the 'Teaching Python to Matlab users' working directory and put in the following code\n",
    "\n",
    "Save the file as 'Utils.py' (you can make this in notepad and then change the extension)\n",
    "\n",
    "Note that even though we imported os here, for this file we need to have the import os tag again"
   ]
  },
  {
   "cell_type": "code",
   "execution_count": 1,
   "metadata": {},
   "outputs": [],
   "source": [
    "import os\n",
    "\n",
    "def list_file(path):\n",
    "    files = os.listdir(path)\n",
    "    print(files)\n",
    "    return files\n",
    "def hello():\n",
    "    print('Hello!')\n",
    "    return None\n",
    "if __name__=='__main__':\n",
    "    None"
   ]
  },
  {
   "cell_type": "code",
   "execution_count": 4,
   "metadata": {},
   "outputs": [
    {
     "name": "stdout",
     "output_type": "stream",
     "text": [
      "['.ipynb_checkpoints', '1. Hello world!.ipynb', '2. Accepting inputs and getting outputs.ipynb', '3. Lists and dictionaries.ipynb', '4. Classes.ipynb', 'Example 1 For loops.ipynb', 'Load Dicom Images.ipynb']\n"
     ]
    }
   ],
   "source": [
    "list_file('.')"
   ]
  },
  {
   "cell_type": "markdown",
   "metadata": {},
   "source": [
    "Now lets say we needed this function to tell us all the files in our folder, we don't want to copy around the definition, we instead just want to have one file which has multiple functions like this one"
   ]
  },
  {
   "cell_type": "code",
   "execution_count": 7,
   "metadata": {},
   "outputs": [
    {
     "name": "stdout",
     "output_type": "stream",
     "text": [
      "['.ipynb_checkpoints', '1. Hello world!.ipynb', '2. Accepting inputs and getting outputs.ipynb', '3. Lists and dictionaries.ipynb', '4. Classes.ipynb', 'Example 1 For loops.ipynb', 'Load Dicom Images.ipynb']\n"
     ]
    },
    {
     "data": {
      "text/plain": [
       "['.ipynb_checkpoints',\n",
       " '1. Hello world!.ipynb',\n",
       " '2. Accepting inputs and getting outputs.ipynb',\n",
       " '3. Lists and dictionaries.ipynb',\n",
       " '4. Classes.ipynb',\n",
       " 'Example 1 For loops.ipynb',\n",
       " 'Load Dicom Images.ipynb']"
      ]
     },
     "execution_count": 7,
     "metadata": {},
     "output_type": "execute_result"
    }
   ],
   "source": [
    "from Utils import list_file\n",
    "\n",
    "list_file('.')"
   ]
  },
  {
   "cell_type": "markdown",
   "metadata": {},
   "source": [
    "Why doesn't this work?\n",
    "\n",
    "Part of the problem is that we're not within the same directory, this file is not located within the directory that we are currently sitting in, to make it so, we have to add it to the path, this allows us access to the files present"
   ]
  },
  {
   "cell_type": "code",
   "execution_count": 6,
   "metadata": {},
   "outputs": [],
   "source": [
    "import sys\n",
    "sys.path.append('..')"
   ]
  },
  {
   "cell_type": "markdown",
   "metadata": {},
   "source": [
    "from Utils import list_file\n",
    "list_file('.')"
   ]
  },
  {
   "cell_type": "markdown",
   "metadata": {},
   "source": [
    "Also, note that even though that has been added to the system path now, listing the files is still only within our work directory with '.'"
   ]
  },
  {
   "cell_type": "markdown",
   "metadata": {},
   "source": [
    "# Example 2"
   ]
  },
  {
   "cell_type": "markdown",
   "metadata": {},
   "source": [
    "## Make a file called 'Math_functions.py'"
   ]
  },
  {
   "cell_type": "markdown",
   "metadata": {},
   "source": [
    "Write two definitions within it, on called sum_numbers and one called multiply_numbers, add it to the directory 'Teaching Python to Matlab users'\n",
    "\n",
    "Run the following code"
   ]
  },
  {
   "cell_type": "code",
   "execution_count": 13,
   "metadata": {},
   "outputs": [
    {
     "ename": "ValueError",
     "evalue": "Something is wrong with our math",
     "output_type": "error",
     "traceback": [
      "\u001b[1;31m---------------------------------------------------------------------------\u001b[0m",
      "\u001b[1;31mValueError\u001b[0m                                Traceback (most recent call last)",
      "\u001b[1;32m<ipython-input-13-267b004bc8a0>\u001b[0m in \u001b[0;36m<module>\u001b[1;34m\u001b[0m\n\u001b[0;32m      8\u001b[0m \u001b[0mmultiplied\u001b[0m \u001b[1;33m=\u001b[0m \u001b[1;36m5\u001b[0m\u001b[1;33m\u001b[0m\u001b[1;33m\u001b[0m\u001b[0m\n\u001b[0;32m      9\u001b[0m \u001b[1;32mif\u001b[0m \u001b[0msummed\u001b[0m \u001b[1;33m!=\u001b[0m \u001b[1;36m15\u001b[0m \u001b[1;32mor\u001b[0m \u001b[0mmultiplied\u001b[0m \u001b[1;33m!=\u001b[0m \u001b[1;36m50\u001b[0m\u001b[1;33m:\u001b[0m\u001b[1;33m\u001b[0m\u001b[1;33m\u001b[0m\u001b[0m\n\u001b[1;32m---> 10\u001b[1;33m     \u001b[1;32mraise\u001b[0m \u001b[0mValueError\u001b[0m\u001b[1;33m(\u001b[0m\u001b[1;34m'Something is wrong with our math'\u001b[0m\u001b[1;33m)\u001b[0m\u001b[1;33m\u001b[0m\u001b[1;33m\u001b[0m\u001b[0m\n\u001b[0m",
      "\u001b[1;31mValueError\u001b[0m: Something is wrong with our math"
     ]
    }
   ],
   "source": [
    "try:\n",
    "    from Math_functions import *\n",
    "except:\n",
    "    raise NameError('You did not create the file, or you forgot to add the __name__ at the bottom')\n",
    "\n",
    "summed = sum_numbers(5,10)\n",
    "multiplied = multiply_numbers(5,10)\n",
    "if summed != 15 or multiplied != 50:\n",
    "    raise ValueError('Something is wrong with our math')"
   ]
  }
 ],
 "metadata": {
  "kernelspec": {
   "display_name": "Python 3",
   "language": "python",
   "name": "python3"
  },
  "language_info": {
   "codemirror_mode": {
    "name": "ipython",
    "version": 3
   },
   "file_extension": ".py",
   "mimetype": "text/x-python",
   "name": "python",
   "nbconvert_exporter": "python",
   "pygments_lexer": "ipython3",
   "version": "3.6.8"
  }
 },
 "nbformat": 4,
 "nbformat_minor": 2
}
